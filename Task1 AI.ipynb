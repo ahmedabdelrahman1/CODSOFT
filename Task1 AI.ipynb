{
 "cells": [
  {
   "cell_type": "code",
   "execution_count": null,
   "metadata": {},
   "outputs": [],
   "source": [
    "def chatbot (userinput):\n",
    "    userinput=userinput.lower()\n",
    "\n",
    "    rules = {\n",
    "        \"hello\":\"hi, how are you ? \",\n",
    "        \"I am fine \":\"that is great to hear\",\n",
    "        \"how are you doing\":\"I am fine thank you. how about you?\",\n",
    "        \"how is the weather today\":\"today weather is great, it  is sunny but not to hot\",\n",
    "        \"which do you prefer summer or winter\":\"I am a chatbot i have not experienced them \",\n",
    "        \"default\": \"I'm sorry, I didn't understand that. Can you please rephrase?\"\n",
    "    }\n",
    "\n",
    "    for rule,response in rules.items():\n",
    "        if rule in userinput:\n",
    "            return response\n",
    "    \n",
    "    return rules[\"default\"]\n",
    "\n",
    "while True:\n",
    "    user_input = input(\"You: \")\n",
    "    if user_input.lower() == 'exit':\n",
    "        print(\"Chatbot: Goodbye!\")\n",
    "        break\n",
    "    response = chatbot(user_input)\n",
    "    print(\"Chatbot:\", response)\n"
   ]
  }
 ],
 "metadata": {
  "kernelspec": {
   "display_name": "Python 3",
   "language": "python",
   "name": "python3"
  },
  "language_info": {
   "codemirror_mode": {
    "name": "ipython",
    "version": 3
   },
   "file_extension": ".py",
   "mimetype": "text/x-python",
   "name": "python",
   "nbconvert_exporter": "python",
   "pygments_lexer": "ipython3",
   "version": "3.10.7"
  }
 },
 "nbformat": 4,
 "nbformat_minor": 2
}
